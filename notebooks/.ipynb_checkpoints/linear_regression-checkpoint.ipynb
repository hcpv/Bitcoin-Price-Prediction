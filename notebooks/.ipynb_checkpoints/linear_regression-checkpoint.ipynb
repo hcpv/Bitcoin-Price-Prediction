{
 "cells": [
  {
   "cell_type": "code",
   "execution_count": 17,
   "metadata": {},
   "outputs": [],
   "source": [
    "import numpy as np\n",
    "import pandas as pd\n",
    "import os\n",
    "from sklearn.linear_model import LinearRegression\n",
    "from sklearn.model_selection import train_test_split\n",
    "from sklearn import metrics\n",
    "from matplotlib import pyplot as plt\n"
   ]
  },
  {
   "cell_type": "code",
   "execution_count": 18,
   "metadata": {},
   "outputs": [],
   "source": [
    "dataframe = pd.read_csv('BTC-USD.csv')"
   ]
  },
  {
   "cell_type": "code",
   "execution_count": 19,
   "metadata": {},
   "outputs": [
    {
     "name": "stdout",
     "output_type": "stream",
     "text": [
      "(1985, 7)\n"
     ]
    }
   ],
   "source": [
    "print(dataframe.shape)"
   ]
  },
  {
   "cell_type": "code",
   "execution_count": 20,
   "metadata": {},
   "outputs": [],
   "source": [
    "dataframe = dataframe.filter(['Date','Close'])"
   ]
  },
  {
   "cell_type": "code",
   "execution_count": 21,
   "metadata": {},
   "outputs": [],
   "source": [
    "prediction_days = 22"
   ]
  },
  {
   "cell_type": "code",
   "execution_count": 22,
   "metadata": {},
   "outputs": [],
   "source": [
    "dataframe['Prediction'] = dataframe['Close'].shift(-prediction_days)"
   ]
  },
  {
   "cell_type": "code",
   "execution_count": 23,
   "metadata": {},
   "outputs": [
    {
     "data": {
      "text/html": [
       "<div>\n",
       "<style scoped>\n",
       "    .dataframe tbody tr th:only-of-type {\n",
       "        vertical-align: middle;\n",
       "    }\n",
       "\n",
       "    .dataframe tbody tr th {\n",
       "        vertical-align: top;\n",
       "    }\n",
       "\n",
       "    .dataframe thead th {\n",
       "        text-align: right;\n",
       "    }\n",
       "</style>\n",
       "<table border=\"1\" class=\"dataframe\">\n",
       "  <thead>\n",
       "    <tr style=\"text-align: right;\">\n",
       "      <th></th>\n",
       "      <th>Date</th>\n",
       "      <th>Close</th>\n",
       "      <th>Prediction</th>\n",
       "    </tr>\n",
       "  </thead>\n",
       "  <tbody>\n",
       "    <tr>\n",
       "      <th>1955</th>\n",
       "      <td>2020-01-24</td>\n",
       "      <td>8445.434570</td>\n",
       "      <td>9889.424805</td>\n",
       "    </tr>\n",
       "    <tr>\n",
       "      <th>1956</th>\n",
       "      <td>2020-01-25</td>\n",
       "      <td>8367.847656</td>\n",
       "      <td>9934.433594</td>\n",
       "    </tr>\n",
       "    <tr>\n",
       "      <th>1957</th>\n",
       "      <td>2020-01-26</td>\n",
       "      <td>8596.830078</td>\n",
       "      <td>9690.142578</td>\n",
       "    </tr>\n",
       "    <tr>\n",
       "      <th>1958</th>\n",
       "      <td>2020-01-27</td>\n",
       "      <td>8909.819336</td>\n",
       "      <td>10141.996094</td>\n",
       "    </tr>\n",
       "    <tr>\n",
       "      <th>1959</th>\n",
       "      <td>2020-01-28</td>\n",
       "      <td>9358.589844</td>\n",
       "      <td>9633.386719</td>\n",
       "    </tr>\n",
       "    <tr>\n",
       "      <th>1960</th>\n",
       "      <td>2020-01-29</td>\n",
       "      <td>9316.629883</td>\n",
       "      <td>9608.475586</td>\n",
       "    </tr>\n",
       "    <tr>\n",
       "      <th>1961</th>\n",
       "      <td>2020-01-30</td>\n",
       "      <td>9508.993164</td>\n",
       "      <td>9686.441406</td>\n",
       "    </tr>\n",
       "    <tr>\n",
       "      <th>1962</th>\n",
       "      <td>2020-01-31</td>\n",
       "      <td>9350.529297</td>\n",
       "      <td>9646.580078</td>\n",
       "    </tr>\n",
       "    <tr>\n",
       "      <th>1963</th>\n",
       "      <td>2020-02-01</td>\n",
       "      <td>9392.875000</td>\n",
       "      <td>NaN</td>\n",
       "    </tr>\n",
       "    <tr>\n",
       "      <th>1964</th>\n",
       "      <td>2020-02-02</td>\n",
       "      <td>9344.365234</td>\n",
       "      <td>NaN</td>\n",
       "    </tr>\n",
       "    <tr>\n",
       "      <th>1965</th>\n",
       "      <td>2020-02-03</td>\n",
       "      <td>9293.521484</td>\n",
       "      <td>NaN</td>\n",
       "    </tr>\n",
       "    <tr>\n",
       "      <th>1966</th>\n",
       "      <td>2020-02-04</td>\n",
       "      <td>9180.962891</td>\n",
       "      <td>NaN</td>\n",
       "    </tr>\n",
       "    <tr>\n",
       "      <th>1967</th>\n",
       "      <td>2020-02-05</td>\n",
       "      <td>9613.423828</td>\n",
       "      <td>NaN</td>\n",
       "    </tr>\n",
       "    <tr>\n",
       "      <th>1968</th>\n",
       "      <td>2020-02-06</td>\n",
       "      <td>9729.801758</td>\n",
       "      <td>NaN</td>\n",
       "    </tr>\n",
       "    <tr>\n",
       "      <th>1969</th>\n",
       "      <td>2020-02-07</td>\n",
       "      <td>9795.943359</td>\n",
       "      <td>NaN</td>\n",
       "    </tr>\n",
       "    <tr>\n",
       "      <th>1970</th>\n",
       "      <td>2020-02-08</td>\n",
       "      <td>9865.119141</td>\n",
       "      <td>NaN</td>\n",
       "    </tr>\n",
       "    <tr>\n",
       "      <th>1971</th>\n",
       "      <td>2020-02-09</td>\n",
       "      <td>10116.673828</td>\n",
       "      <td>NaN</td>\n",
       "    </tr>\n",
       "    <tr>\n",
       "      <th>1972</th>\n",
       "      <td>2020-02-10</td>\n",
       "      <td>9856.611328</td>\n",
       "      <td>NaN</td>\n",
       "    </tr>\n",
       "    <tr>\n",
       "      <th>1973</th>\n",
       "      <td>2020-02-11</td>\n",
       "      <td>10208.236328</td>\n",
       "      <td>NaN</td>\n",
       "    </tr>\n",
       "    <tr>\n",
       "      <th>1974</th>\n",
       "      <td>2020-02-12</td>\n",
       "      <td>10326.054688</td>\n",
       "      <td>NaN</td>\n",
       "    </tr>\n",
       "    <tr>\n",
       "      <th>1975</th>\n",
       "      <td>2020-02-13</td>\n",
       "      <td>10214.379883</td>\n",
       "      <td>NaN</td>\n",
       "    </tr>\n",
       "    <tr>\n",
       "      <th>1976</th>\n",
       "      <td>2020-02-14</td>\n",
       "      <td>10312.116211</td>\n",
       "      <td>NaN</td>\n",
       "    </tr>\n",
       "    <tr>\n",
       "      <th>1977</th>\n",
       "      <td>2020-02-15</td>\n",
       "      <td>9889.424805</td>\n",
       "      <td>NaN</td>\n",
       "    </tr>\n",
       "    <tr>\n",
       "      <th>1978</th>\n",
       "      <td>2020-02-16</td>\n",
       "      <td>9934.433594</td>\n",
       "      <td>NaN</td>\n",
       "    </tr>\n",
       "    <tr>\n",
       "      <th>1979</th>\n",
       "      <td>2020-02-17</td>\n",
       "      <td>9690.142578</td>\n",
       "      <td>NaN</td>\n",
       "    </tr>\n",
       "    <tr>\n",
       "      <th>1980</th>\n",
       "      <td>2020-02-18</td>\n",
       "      <td>10141.996094</td>\n",
       "      <td>NaN</td>\n",
       "    </tr>\n",
       "    <tr>\n",
       "      <th>1981</th>\n",
       "      <td>2020-02-19</td>\n",
       "      <td>9633.386719</td>\n",
       "      <td>NaN</td>\n",
       "    </tr>\n",
       "    <tr>\n",
       "      <th>1982</th>\n",
       "      <td>2020-02-20</td>\n",
       "      <td>9608.475586</td>\n",
       "      <td>NaN</td>\n",
       "    </tr>\n",
       "    <tr>\n",
       "      <th>1983</th>\n",
       "      <td>2020-02-21</td>\n",
       "      <td>9686.441406</td>\n",
       "      <td>NaN</td>\n",
       "    </tr>\n",
       "    <tr>\n",
       "      <th>1984</th>\n",
       "      <td>2020-02-22</td>\n",
       "      <td>9646.580078</td>\n",
       "      <td>NaN</td>\n",
       "    </tr>\n",
       "  </tbody>\n",
       "</table>\n",
       "</div>"
      ],
      "text/plain": [
       "            Date         Close    Prediction\n",
       "1955  2020-01-24   8445.434570   9889.424805\n",
       "1956  2020-01-25   8367.847656   9934.433594\n",
       "1957  2020-01-26   8596.830078   9690.142578\n",
       "1958  2020-01-27   8909.819336  10141.996094\n",
       "1959  2020-01-28   9358.589844   9633.386719\n",
       "1960  2020-01-29   9316.629883   9608.475586\n",
       "1961  2020-01-30   9508.993164   9686.441406\n",
       "1962  2020-01-31   9350.529297   9646.580078\n",
       "1963  2020-02-01   9392.875000           NaN\n",
       "1964  2020-02-02   9344.365234           NaN\n",
       "1965  2020-02-03   9293.521484           NaN\n",
       "1966  2020-02-04   9180.962891           NaN\n",
       "1967  2020-02-05   9613.423828           NaN\n",
       "1968  2020-02-06   9729.801758           NaN\n",
       "1969  2020-02-07   9795.943359           NaN\n",
       "1970  2020-02-08   9865.119141           NaN\n",
       "1971  2020-02-09  10116.673828           NaN\n",
       "1972  2020-02-10   9856.611328           NaN\n",
       "1973  2020-02-11  10208.236328           NaN\n",
       "1974  2020-02-12  10326.054688           NaN\n",
       "1975  2020-02-13  10214.379883           NaN\n",
       "1976  2020-02-14  10312.116211           NaN\n",
       "1977  2020-02-15   9889.424805           NaN\n",
       "1978  2020-02-16   9934.433594           NaN\n",
       "1979  2020-02-17   9690.142578           NaN\n",
       "1980  2020-02-18  10141.996094           NaN\n",
       "1981  2020-02-19   9633.386719           NaN\n",
       "1982  2020-02-20   9608.475586           NaN\n",
       "1983  2020-02-21   9686.441406           NaN\n",
       "1984  2020-02-22   9646.580078           NaN"
      ]
     },
     "execution_count": 23,
     "metadata": {},
     "output_type": "execute_result"
    }
   ],
   "source": [
    "dataframe.tail(30)"
   ]
  },
  {
   "cell_type": "code",
   "execution_count": 24,
   "metadata": {},
   "outputs": [
    {
     "data": {
      "text/plain": [
       "(1963, 1)"
      ]
     },
     "execution_count": 24,
     "metadata": {},
     "output_type": "execute_result"
    }
   ],
   "source": [
    "x = dataframe['Close']\n",
    "x = x[:-prediction_days]\n",
    "x = np.array(x)\n",
    "x = np.reshape(x,(len(x),1))\n",
    "x.shape"
   ]
  },
  {
   "cell_type": "code",
   "execution_count": 25,
   "metadata": {},
   "outputs": [
    {
     "data": {
      "text/plain": [
       "(1963,)"
      ]
     },
     "execution_count": 25,
     "metadata": {},
     "output_type": "execute_result"
    }
   ],
   "source": [
    "y = dataframe['Prediction']\n",
    "y = y[:-prediction_days]\n",
    "y.shape"
   ]
  },
  {
   "cell_type": "code",
   "execution_count": 26,
   "metadata": {},
   "outputs": [],
   "source": [
    "x_train, x_test, y_train, y_test = train_test_split(x,y,test_size=0.2)"
   ]
  },
  {
   "cell_type": "code",
   "execution_count": 27,
   "metadata": {},
   "outputs": [
    {
     "data": {
      "text/plain": [
       "(22, 1)"
      ]
     },
     "execution_count": 27,
     "metadata": {},
     "output_type": "execute_result"
    }
   ],
   "source": [
    "x_prediction = dataframe['Close']\n",
    "x_prediction = x_prediction[-prediction_days:]\n",
    "x_prediction = np.array(x_prediction)\n",
    "x_prediction = np.reshape(x_prediction,(len(x_prediction),1))\n",
    "x_prediction.shape"
   ]
  },
  {
   "cell_type": "code",
   "execution_count": 28,
   "metadata": {},
   "outputs": [
    {
     "data": {
      "text/plain": [
       "LinearRegression(copy_X=True, fit_intercept=True, n_jobs=None, normalize=False)"
      ]
     },
     "execution_count": 28,
     "metadata": {},
     "output_type": "execute_result"
    }
   ],
   "source": [
    "clf = LinearRegression()\n",
    "clf.fit(x_train,y_train)"
   ]
  },
  {
   "cell_type": "code",
   "execution_count": 29,
   "metadata": {},
   "outputs": [
    {
     "name": "stdout",
     "output_type": "stream",
     "text": [
      "confidence:  0.841543586764856\n"
     ]
    }
   ],
   "source": [
    "confidence = clf.score(x_test, y_test)\n",
    "print(\"confidence: \", confidence)"
   ]
  },
  {
   "cell_type": "code",
   "execution_count": 30,
   "metadata": {},
   "outputs": [],
   "source": [
    "prediction = clf.predict(x_prediction)"
   ]
  },
  {
   "cell_type": "code",
   "execution_count": 31,
   "metadata": {},
   "outputs": [],
   "source": [
    "date = dataframe['Date']\n",
    "date = date[-prediction_days:]"
   ]
  },
  {
   "cell_type": "code",
   "execution_count": 34,
   "metadata": {},
   "outputs": [
    {
     "name": "stdout",
     "output_type": "stream",
     "text": [
      "Date: 2020-02-01  Original Price: 9392.875  Predicted Price 9158.847711730199\n",
      "Date: 2020-02-02  Original Price: 9344.365234  Predicted Price 9113.108282133278\n",
      "Date: 2020-02-03  Original Price: 9293.521484  Predicted Price 9065.168159652203\n",
      "Date: 2020-02-04  Original Price: 9180.962891  Predicted Price 8959.03765718695\n",
      "Date: 2020-02-05  Original Price: 9613.423828  Predicted Price 9366.801252280962\n",
      "Date: 2020-02-06  Original Price: 9729.801758  Predicted Price 9476.532973845442\n",
      "Date: 2020-02-07  Original Price: 9795.943359  Predicted Price 9538.897304820923\n",
      "Date: 2020-02-08  Original Price: 9865.119141  Predicted Price 9604.12253824301\n",
      "Date: 2020-02-09  Original Price: 10116.673828  Predicted Price 9841.311229192612\n",
      "Date: 2020-02-10  Original Price: 9856.611328  Predicted Price 9596.10059656353\n",
      "Date: 2020-02-11  Original Price: 10208.236328  Predicted Price 9927.644701146855\n",
      "Date: 2020-02-12  Original Price: 10326.054688  Predicted Price 10038.734591426772\n",
      "Date: 2020-02-13  Original Price: 10214.379883  Predicted Price 9933.437404855162\n",
      "Date: 2020-02-14  Original Price: 10312.116211  Predicted Price 10025.592124661838\n",
      "Date: 2020-02-15  Original Price: 9889.424805  Predicted Price 9627.040133997529\n",
      "Date: 2020-02-16  Original Price: 9934.433594  Predicted Price 9669.47852332532\n",
      "Date: 2020-02-17  Original Price: 9690.142578  Predicted Price 9439.138683560028\n",
      "Date: 2020-02-18  Original Price: 10141.996094  Predicted Price 9865.187369987467\n",
      "Date: 2020-02-19  Original Price: 9633.386719  Predicted Price 9385.624085758358\n",
      "Date: 2020-02-20  Original Price: 9608.475586  Predicted Price 9362.135598635312\n",
      "Date: 2020-02-21  Original Price: 9686.441406  Predicted Price 9435.64888119487\n",
      "Date: 2020-02-22  Original Price: 9646.580078  Predicted Price 9398.063987346988\n"
     ]
    }
   ],
   "source": [
    "for (d,original,predicted) in zip(date,x_prediction,prediction):\n",
    "    print('Date:',d,' Original Price:',original[0],' Predicted Price',predicted)"
   ]
  },
  {
   "cell_type": "code",
   "execution_count": 36,
   "metadata": {},
   "outputs": [
    {
     "data": {
      "text/plain": [
       "array([ 9392.875   ,  9344.365234,  9293.521484,  9180.962891,\n",
       "        9613.423828,  9729.801758,  9795.943359,  9865.119141,\n",
       "       10116.673828,  9856.611328, 10208.236328, 10326.054688,\n",
       "       10214.379883, 10312.116211,  9889.424805,  9934.433594,\n",
       "        9690.142578, 10141.996094,  9633.386719,  9608.475586,\n",
       "        9686.441406,  9646.580078])"
      ]
     },
     "execution_count": 36,
     "metadata": {},
     "output_type": "execute_result"
    }
   ],
   "source": [
    "x_prediction = np.reshape(x_prediction,(len(x_prediction)))"
   ]
  },
  {
   "cell_type": "code",
   "execution_count": 37,
   "metadata": {},
   "outputs": [
    {
     "data": {
      "text/plain": [
       "<matplotlib.collections.PathCollection at 0x7f50028608d0>"
      ]
     },
     "execution_count": 37,
     "metadata": {},
     "output_type": "execute_result"
    },
    {
     "data": {
      "image/png": "[encoded data removed]",
      "text/plain": [
       "<Figure size 432x288 with 1 Axes>"
      ]
     },
     "metadata": {
      "needs_background": "light"
     },
     "output_type": "display_data"
    }
   ],
   "source": [
    "plt.scatter(x_prediction, prediction, color='darkorange', label='data')"
   ]
  },
  {
   "cell_type": "code",
   "execution_count": null,
   "metadata": {},
   "outputs": [],
   "source": []
  }
 ],
 "metadata": {
  "kernelspec": {
   "display_name": "myenv",
   "language": "python",
   "name": "myenv"
  },
  "language_info": {
   "codemirror_mode": {
    "name": "ipython",
    "version": 3
   },
   "file_extension": ".py",
   "mimetype": "text/x-python",
   "name": "python",
   "nbconvert_exporter": "python",
   "pygments_lexer": "ipython3",
   "version": "3.7.7"
  }
 },
 "nbformat": 4,
 "nbformat_minor": 4
}
