{
 "cells": [
  {
   "cell_type": "code",
   "execution_count": 29,
   "metadata": {},
   "outputs": [],
   "source": [
    "import numpy as np\n",
    "import pandas as pd\n",
    "import os\n",
    "from sklearn.svm import SVR\n",
    "from sklearn.model_selection import train_test_split\n",
    "from sklearn import metrics\n",
    "from matplotlib import pyplot as plt\n"
   ]
  },
  {
   "cell_type": "code",
   "execution_count": 30,
   "metadata": {},
   "outputs": [],
   "source": [
    "dataframe = pd.read_csv('BTC-USD.csv')"
   ]
  },
  {
   "cell_type": "code",
   "execution_count": 31,
   "metadata": {},
   "outputs": [
    {
     "name": "stdout",
     "output_type": "stream",
     "text": [
      "(1985, 7)\n"
     ]
    }
   ],
   "source": [
    "print(dataframe.shape)"
   ]
  },
  {
   "cell_type": "code",
   "execution_count": 32,
   "metadata": {},
   "outputs": [],
   "source": [
    "dataframe = dataframe.filter(['Date','Close'])"
   ]
  },
  {
   "cell_type": "code",
   "execution_count": 33,
   "metadata": {},
   "outputs": [],
   "source": [
    "prediction_days = 22"
   ]
  },
  {
   "cell_type": "code",
   "execution_count": 34,
   "metadata": {},
   "outputs": [],
   "source": [
    "dataframe['Prediction'] = dataframe['Close'].shift(-prediction_days)"
   ]
  },
  {
   "cell_type": "code",
   "execution_count": 35,
   "metadata": {},
   "outputs": [
    {
     "data": {
      "text/html": [
       "<div>\n",
       "<style scoped>\n",
       "    .dataframe tbody tr th:only-of-type {\n",
       "        vertical-align: middle;\n",
       "    }\n",
       "\n",
       "    .dataframe tbody tr th {\n",
       "        vertical-align: top;\n",
       "    }\n",
       "\n",
       "    .dataframe thead th {\n",
       "        text-align: right;\n",
       "    }\n",
       "</style>\n",
       "<table border=\"1\" class=\"dataframe\">\n",
       "  <thead>\n",
       "    <tr style=\"text-align: right;\">\n",
       "      <th></th>\n",
       "      <th>Date</th>\n",
       "      <th>Close</th>\n",
       "      <th>Prediction</th>\n",
       "    </tr>\n",
       "  </thead>\n",
       "  <tbody>\n",
       "    <tr>\n",
       "      <th>1955</th>\n",
       "      <td>2020-01-24</td>\n",
       "      <td>8445.434570</td>\n",
       "      <td>9889.424805</td>\n",
       "    </tr>\n",
       "    <tr>\n",
       "      <th>1956</th>\n",
       "      <td>2020-01-25</td>\n",
       "      <td>8367.847656</td>\n",
       "      <td>9934.433594</td>\n",
       "    </tr>\n",
       "    <tr>\n",
       "      <th>1957</th>\n",
       "      <td>2020-01-26</td>\n",
       "      <td>8596.830078</td>\n",
       "      <td>9690.142578</td>\n",
       "    </tr>\n",
       "    <tr>\n",
       "      <th>1958</th>\n",
       "      <td>2020-01-27</td>\n",
       "      <td>8909.819336</td>\n",
       "      <td>10141.996094</td>\n",
       "    </tr>\n",
       "    <tr>\n",
       "      <th>1959</th>\n",
       "      <td>2020-01-28</td>\n",
       "      <td>9358.589844</td>\n",
       "      <td>9633.386719</td>\n",
       "    </tr>\n",
       "    <tr>\n",
       "      <th>1960</th>\n",
       "      <td>2020-01-29</td>\n",
       "      <td>9316.629883</td>\n",
       "      <td>9608.475586</td>\n",
       "    </tr>\n",
       "    <tr>\n",
       "      <th>1961</th>\n",
       "      <td>2020-01-30</td>\n",
       "      <td>9508.993164</td>\n",
       "      <td>9686.441406</td>\n",
       "    </tr>\n",
       "    <tr>\n",
       "      <th>1962</th>\n",
       "      <td>2020-01-31</td>\n",
       "      <td>9350.529297</td>\n",
       "      <td>9646.580078</td>\n",
       "    </tr>\n",
       "    <tr>\n",
       "      <th>1963</th>\n",
       "      <td>2020-02-01</td>\n",
       "      <td>9392.875000</td>\n",
       "      <td>NaN</td>\n",
       "    </tr>\n",
       "    <tr>\n",
       "      <th>1964</th>\n",
       "      <td>2020-02-02</td>\n",
       "      <td>9344.365234</td>\n",
       "      <td>NaN</td>\n",
       "    </tr>\n",
       "    <tr>\n",
       "      <th>1965</th>\n",
       "      <td>2020-02-03</td>\n",
       "      <td>9293.521484</td>\n",
       "      <td>NaN</td>\n",
       "    </tr>\n",
       "    <tr>\n",
       "      <th>1966</th>\n",
       "      <td>2020-02-04</td>\n",
       "      <td>9180.962891</td>\n",
       "      <td>NaN</td>\n",
       "    </tr>\n",
       "    <tr>\n",
       "      <th>1967</th>\n",
       "      <td>2020-02-05</td>\n",
       "      <td>9613.423828</td>\n",
       "      <td>NaN</td>\n",
       "    </tr>\n",
       "    <tr>\n",
       "      <th>1968</th>\n",
       "      <td>2020-02-06</td>\n",
       "      <td>9729.801758</td>\n",
       "      <td>NaN</td>\n",
       "    </tr>\n",
       "    <tr>\n",
       "      <th>1969</th>\n",
       "      <td>2020-02-07</td>\n",
       "      <td>9795.943359</td>\n",
       "      <td>NaN</td>\n",
       "    </tr>\n",
       "    <tr>\n",
       "      <th>1970</th>\n",
       "      <td>2020-02-08</td>\n",
       "      <td>9865.119141</td>\n",
       "      <td>NaN</td>\n",
       "    </tr>\n",
       "    <tr>\n",
       "      <th>1971</th>\n",
       "      <td>2020-02-09</td>\n",
       "      <td>10116.673828</td>\n",
       "      <td>NaN</td>\n",
       "    </tr>\n",
       "    <tr>\n",
       "      <th>1972</th>\n",
       "      <td>2020-02-10</td>\n",
       "      <td>9856.611328</td>\n",
       "      <td>NaN</td>\n",
       "    </tr>\n",
       "    <tr>\n",
       "      <th>1973</th>\n",
       "      <td>2020-02-11</td>\n",
       "      <td>10208.236328</td>\n",
       "      <td>NaN</td>\n",
       "    </tr>\n",
       "    <tr>\n",
       "      <th>1974</th>\n",
       "      <td>2020-02-12</td>\n",
       "      <td>10326.054688</td>\n",
       "      <td>NaN</td>\n",
       "    </tr>\n",
       "    <tr>\n",
       "      <th>1975</th>\n",
       "      <td>2020-02-13</td>\n",
       "      <td>10214.379883</td>\n",
       "      <td>NaN</td>\n",
       "    </tr>\n",
       "    <tr>\n",
       "      <th>1976</th>\n",
       "      <td>2020-02-14</td>\n",
       "      <td>10312.116211</td>\n",
       "      <td>NaN</td>\n",
       "    </tr>\n",
       "    <tr>\n",
       "      <th>1977</th>\n",
       "      <td>2020-02-15</td>\n",
       "      <td>9889.424805</td>\n",
       "      <td>NaN</td>\n",
       "    </tr>\n",
       "    <tr>\n",
       "      <th>1978</th>\n",
       "      <td>2020-02-16</td>\n",
       "      <td>9934.433594</td>\n",
       "      <td>NaN</td>\n",
       "    </tr>\n",
       "    <tr>\n",
       "      <th>1979</th>\n",
       "      <td>2020-02-17</td>\n",
       "      <td>9690.142578</td>\n",
       "      <td>NaN</td>\n",
       "    </tr>\n",
       "    <tr>\n",
       "      <th>1980</th>\n",
       "      <td>2020-02-18</td>\n",
       "      <td>10141.996094</td>\n",
       "      <td>NaN</td>\n",
       "    </tr>\n",
       "    <tr>\n",
       "      <th>1981</th>\n",
       "      <td>2020-02-19</td>\n",
       "      <td>9633.386719</td>\n",
       "      <td>NaN</td>\n",
       "    </tr>\n",
       "    <tr>\n",
       "      <th>1982</th>\n",
       "      <td>2020-02-20</td>\n",
       "      <td>9608.475586</td>\n",
       "      <td>NaN</td>\n",
       "    </tr>\n",
       "    <tr>\n",
       "      <th>1983</th>\n",
       "      <td>2020-02-21</td>\n",
       "      <td>9686.441406</td>\n",
       "      <td>NaN</td>\n",
       "    </tr>\n",
       "    <tr>\n",
       "      <th>1984</th>\n",
       "      <td>2020-02-22</td>\n",
       "      <td>9646.580078</td>\n",
       "      <td>NaN</td>\n",
       "    </tr>\n",
       "  </tbody>\n",
       "</table>\n",
       "</div>"
      ],
      "text/plain": [
       "            Date         Close    Prediction\n",
       "1955  2020-01-24   8445.434570   9889.424805\n",
       "1956  2020-01-25   8367.847656   9934.433594\n",
       "1957  2020-01-26   8596.830078   9690.142578\n",
       "1958  2020-01-27   8909.819336  10141.996094\n",
       "1959  2020-01-28   9358.589844   9633.386719\n",
       "1960  2020-01-29   9316.629883   9608.475586\n",
       "1961  2020-01-30   9508.993164   9686.441406\n",
       "1962  2020-01-31   9350.529297   9646.580078\n",
       "1963  2020-02-01   9392.875000           NaN\n",
       "1964  2020-02-02   9344.365234           NaN\n",
       "1965  2020-02-03   9293.521484           NaN\n",
       "1966  2020-02-04   9180.962891           NaN\n",
       "1967  2020-02-05   9613.423828           NaN\n",
       "1968  2020-02-06   9729.801758           NaN\n",
       "1969  2020-02-07   9795.943359           NaN\n",
       "1970  2020-02-08   9865.119141           NaN\n",
       "1971  2020-02-09  10116.673828           NaN\n",
       "1972  2020-02-10   9856.611328           NaN\n",
       "1973  2020-02-11  10208.236328           NaN\n",
       "1974  2020-02-12  10326.054688           NaN\n",
       "1975  2020-02-13  10214.379883           NaN\n",
       "1976  2020-02-14  10312.116211           NaN\n",
       "1977  2020-02-15   9889.424805           NaN\n",
       "1978  2020-02-16   9934.433594           NaN\n",
       "1979  2020-02-17   9690.142578           NaN\n",
       "1980  2020-02-18  10141.996094           NaN\n",
       "1981  2020-02-19   9633.386719           NaN\n",
       "1982  2020-02-20   9608.475586           NaN\n",
       "1983  2020-02-21   9686.441406           NaN\n",
       "1984  2020-02-22   9646.580078           NaN"
      ]
     },
     "execution_count": 35,
     "metadata": {},
     "output_type": "execute_result"
    }
   ],
   "source": [
    "dataframe.tail(30)"
   ]
  },
  {
   "cell_type": "code",
   "execution_count": 38,
   "metadata": {},
   "outputs": [
    {
     "data": {
      "text/plain": [
       "(1963, 1)"
      ]
     },
     "execution_count": 38,
     "metadata": {},
     "output_type": "execute_result"
    }
   ],
   "source": [
    "x = dataframe['Close']\n",
    "x = x[:-prediction_days]\n",
    "x = np.array(x)\n",
    "x = np.reshape(x,(len(x),1))\n",
    "x.shape"
   ]
  },
  {
   "cell_type": "code",
   "execution_count": 43,
   "metadata": {},
   "outputs": [
    {
     "data": {
      "text/plain": [
       "(1963,)"
      ]
     },
     "execution_count": 43,
     "metadata": {},
     "output_type": "execute_result"
    }
   ],
   "source": [
    "y = dataframe['Prediction']\n",
    "y = y[:-prediction_days]\n",
    "y.shape"
   ]
  },
  {
   "cell_type": "code",
   "execution_count": 44,
   "metadata": {},
   "outputs": [],
   "source": [
    "x_train, x_test, y_train, y_test = train_test_split(x,y,test_size=0.2)"
   ]
  },
  {
   "cell_type": "code",
   "execution_count": 45,
   "metadata": {},
   "outputs": [
    {
     "data": {
      "text/plain": [
       "(22, 1)"
      ]
     },
     "execution_count": 45,
     "metadata": {},
     "output_type": "execute_result"
    }
   ],
   "source": [
    "x_prediction = dataframe['Close']\n",
    "x_prediction = x_prediction[-prediction_days:]\n",
    "x_prediction = np.array(x_prediction)\n",
    "x_prediction = np.reshape(x_prediction,(len(x_prediction),1))\n",
    "x_prediction.shape"
   ]
  },
  {
   "cell_type": "code",
   "execution_count": 46,
   "metadata": {},
   "outputs": [
    {
     "data": {
      "text/plain": [
       "SVR(C=1000.0, cache_size=200, coef0=0.0, degree=3, epsilon=0.1, gamma=1e-05,\n",
       "    kernel='rbf', max_iter=-1, shrinking=True, tol=0.001, verbose=False)"
      ]
     },
     "execution_count": 46,
     "metadata": {},
     "output_type": "execute_result"
    }
   ],
   "source": [
    "svr = SVR(kernel='rbf', C=1e3, gamma=0.00001)\n",
    "svr.fit(x_train,y_train)"
   ]
  },
  {
   "cell_type": "code",
   "execution_count": 47,
   "metadata": {},
   "outputs": [
    {
     "name": "stdout",
     "output_type": "stream",
     "text": [
      "confidence:  0.8625559501062716\n"
     ]
    }
   ],
   "source": [
    "confidence = svr.score(x_test, y_test)\n",
    "print(\"confidence: \", confidence)"
   ]
  },
  {
   "cell_type": "code",
   "execution_count": 49,
   "metadata": {},
   "outputs": [],
   "source": [
    "prediction = svr.predict(x_prediction)"
   ]
  },
  {
   "cell_type": "code",
   "execution_count": 50,
   "metadata": {},
   "outputs": [],
   "source": [
    "date = dataframe['Date']\n",
    "date = date[-prediction_days:]"
   ]
  },
  {
   "cell_type": "code",
   "execution_count": 52,
   "metadata": {},
   "outputs": [
    {
     "name": "stdout",
     "output_type": "stream",
     "text": [
      "Date: 2020-02-01  Original Price: 9392.875  Predicted Price: 8759.917652005135\n",
      "Date: 2020-02-02  Original Price: 9344.365234  Predicted Price: 8403.149559080128\n",
      "Date: 2020-02-03  Original Price: 9293.521484  Predicted Price: 8054.064976335765\n",
      "Date: 2020-02-04  Original Price: 9180.962891  Predicted Price: 7589.673311549603\n",
      "Date: 2020-02-05  Original Price: 9613.423828  Predicted Price: 9703.764458382577\n",
      "Date: 2020-02-06  Original Price: 9729.801758  Predicted Price: 9716.442693257048\n",
      "Date: 2020-02-07  Original Price: 9795.943359  Predicted Price: 9771.613336836925\n",
      "Date: 2020-02-08  Original Price: 9865.119141  Predicted Price: 9933.721715474745\n",
      "Date: 2020-02-09  Original Price: 10116.673828  Predicted Price: 10432.021981138969\n",
      "Date: 2020-02-10  Original Price: 9856.611328  Predicted Price: 9908.32935778371\n",
      "Date: 2020-02-11  Original Price: 10208.236328  Predicted Price: 10076.068083160704\n",
      "Date: 2020-02-12  Original Price: 10326.054688  Predicted Price: 9388.746636761542\n",
      "Date: 2020-02-13  Original Price: 10214.379883  Predicted Price: 10042.513889138485\n",
      "Date: 2020-02-14  Original Price: 10312.116211  Predicted Price: 9464.944112739297\n",
      "Date: 2020-02-15  Original Price: 9889.424805  Predicted Price: 10012.56646055575\n",
      "Date: 2020-02-16  Original Price: 9934.433594  Predicted Price: 10172.173996631882\n",
      "Date: 2020-02-17  Original Price: 9690.142578  Predicted Price: 9715.3903543111\n",
      "Date: 2020-02-18  Original Price: 10141.996094  Predicted Price: 10365.87002682115\n",
      "Date: 2020-02-19  Original Price: 9633.386719  Predicted Price: 9714.08301947923\n",
      "Date: 2020-02-20  Original Price: 9608.475586  Predicted Price: 9699.87060963751\n",
      "Date: 2020-02-21  Original Price: 9686.441406  Predicted Price: 9715.763453976146\n",
      "Date: 2020-02-22  Original Price: 9646.580078  Predicted Price: 9717.028009652788\n"
     ]
    }
   ],
   "source": [
    "for (d,original,predicted) in zip(date,x_prediction,prediction):\n",
    "    print('Date:',d,' Original Price:',original[0],' Predicted Price:',predicted)"
   ]
  },
  {
   "cell_type": "code",
   "execution_count": 53,
   "metadata": {},
   "outputs": [],
   "source": [
    "x_prediction = np.reshape(x_prediction,(len(x_prediction)))"
   ]
  },
  {
   "cell_type": "code",
   "execution_count": 54,
   "metadata": {},
   "outputs": [
    {
     "data": {
      "text/plain": [
       "<matplotlib.collections.PathCollection at 0x7f1576ec6e10>"
      ]
     },
     "execution_count": 54,
     "metadata": {},
     "output_type": "execute_result"
    },
    {
     "data": {
      "image/png": "[encoded data removed]",
      "text/plain": [
       "<Figure size 432x288 with 1 Axes>"
      ]
     },
     "metadata": {
      "needs_background": "light"
     },
     "output_type": "display_data"
    }
   ],
   "source": [
    "plt.scatter(x_prediction, prediction, color='darkorange', label='data')"
   ]
  },
  {
   "cell_type": "code",
   "execution_count": null,
   "metadata": {},
   "outputs": [],
   "source": []
  }
 ],
 "metadata": {
  "kernelspec": {
   "display_name": "myenv",
   "language": "python",
   "name": "myenv"
  },
  "language_info": {
   "codemirror_mode": {
    "name": "ipython",
    "version": 3
   },
   "file_extension": ".py",
   "mimetype": "text/x-python",
   "name": "python",
   "nbconvert_exporter": "python",
   "pygments_lexer": "ipython3",
   "version": "3.7.4"
  }
 },
 "nbformat": 4,
 "nbformat_minor": 4
}
